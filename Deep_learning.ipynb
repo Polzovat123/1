{
  "nbformat": 4,
  "nbformat_minor": 0,
  "metadata": {
    "colab": {
      "name": "Deep_learning.ipynb",
      "provenance": [],
      "collapsed_sections": [],
      "include_colab_link": true
    },
    "kernelspec": {
      "name": "python3",
      "display_name": "Python 3"
    }
  },
  "cells": [
    {
      "cell_type": "markdown",
      "metadata": {
        "id": "view-in-github",
        "colab_type": "text"
      },
      "source": [
        "<a href=\"https://colab.research.google.com/github/Polzovat123/1/blob/master/Deep_learning.ipynb\" target=\"_parent\"><img src=\"https://colab.research.google.com/assets/colab-badge.svg\" alt=\"Open In Colab\"/></a>"
      ]
    },
    {
      "cell_type": "code",
      "metadata": {
        "id": "dmHHwxU61Pml",
        "colab_type": "code",
        "outputId": "37940f44-a7ae-4968-9eea-f1ddd164d7bb",
        "colab": {
          "base_uri": "https://localhost:8080/",
          "height": 34
        }
      },
      "source": [
        "import io\n",
        "import chardet\n",
        "import os\n",
        "import codecs\n",
        "\n",
        "filename = 'input.txt'\n",
        "\n",
        "bytes = min(32, os.path.getsize(filename))\n",
        "raw = open(filename, 'rb').read(bytes)\n",
        "\n",
        "if raw.startswith(codecs.BOM_UTF8):\n",
        "    encoding = 'utf-8-sig'\n",
        "else:\n",
        "    result = chardet.detect(raw)\n",
        "    encoding = result['encoding']\n",
        "\n",
        "infile = io.open(filename, 'r', encoding=encoding)\n",
        "data = infile.read()\n",
        "infile.close()\n",
        "\n",
        "str = data;\n",
        "\n",
        "def clear_data(str):\n",
        "    str = str.replace('г.', ' ')\n",
        "    str = str.replace('г.', ' ')\n",
        "    str = str.replace('г)', ' ')\n",
        "    str = str.replace(' ( ', ' ')\n",
        "    str = str.replace(' ) ', ' ')\n",
        "    str = str.replace('.в', ' ')\n",
        "    str = str.replace('в.', ' ')\n",
        "    str = str.replace('  ', ' ')\n",
        "    return str\n",
        "\n",
        "\n",
        "\n",
        "def clear_nomber(str):\n",
        "    str = str.replace('1', ' ')\n",
        "    str = str.replace('2', ' ')\n",
        "    str = str.replace('3', ' ')\n",
        "    str = str.replace('4', ' ')\n",
        "    str = str.replace('5', ' ')\n",
        "    str = str.replace('6', ' ')\n",
        "    str = str.replace('7', ' ')\n",
        "    str = str.replace('9', ' ')\n",
        "    str = str.replace('8', ' ')\n",
        "    str = str.replace('0', ' ')\n",
        "    str = str.replace('  ', ' ')\n",
        "    return str\n",
        "\n",
        "def clear_znak(str):\n",
        "    str = str.replace('  ', ' ')\n",
        "    str = str.replace('-', ' ')\n",
        "    str = str.replace(',', ' ')\n",
        "    str = str.replace('  ', ' ')\n",
        "    str = str.replace('?', ' ')\n",
        "    str = str.replace('?', ' ')\n",
        "    str = str.replace('!', ' ')\n",
        "    str = str.replace('..', '.')\n",
        "    str = str.replace(':', ' ')\n",
        "    str = str.replace(';', ' ')\n",
        "    return str\n",
        "\n",
        "\n",
        "str = clear_znak(str)\n",
        "str =clear_nomber(str)\n",
        "str=clear_data(str)\n",
        "\n",
        "print('Convert complete')\n",
        "\n",
        "str = str + ':'\n",
        "with open('output.txt', 'w', encoding='utf-8') as f:\n",
        "    f.write(str)"
      ],
      "execution_count": 3,
      "outputs": [
        {
          "output_type": "stream",
          "text": [
            "Convert complete\n"
          ],
          "name": "stdout"
        }
      ]
    },
    {
      "cell_type": "code",
      "metadata": {
        "id": "iQSq9n5L1COr",
        "colab_type": "code",
        "colab": {}
      },
      "source": [
        "import io\n",
        "import chardet\n",
        "import os\n",
        "import codecs\n",
        "\n",
        "filename = 'output.txt'\n",
        "\n",
        "bytes = min(32, os.path.getsize(filename))\n",
        "raw = open(filename, 'rb').read(bytes)\n",
        "\n",
        "if raw.startswith(codecs.BOM_UTF8):\n",
        "    encoding = 'utf-8-sig'\n",
        "else:\n",
        "    result = chardet.detect(raw)\n",
        "    encoding = result['encoding']\n",
        "\n",
        "infile = io.open(filename, 'r', encoding=encoding)\n",
        "data = infile.read()\n",
        "infile.close()\n",
        "\n",
        "str = data;\n",
        "\n",
        "def no_roman(str):\n",
        "    str = str.replace('I', ' ')\n",
        "    str = str.replace('V', ' ')\n",
        "    str = str.replace('C', ' ')\n",
        "    str = str.replace('X', ' ')\n",
        "    str = str.replace('L', ' ')\n",
        "    str = str.replace('D', ' ')\n",
        "    return str\n",
        "\n",
        "\n",
        "def write_tp(str):\n",
        "    str = str.replace('т. е.', 'то есть')\n",
        "    str = str.replace('т. п.', 'тому подобное')\n",
        "    str = str.replace('т. д.','так далее')\n",
        "    str = str.replace('г.', ' ')\n",
        "    str = str.replace(' г ', ' ')\n",
        "    str = str.replace(' кДж', ' килоДжоулей ')\n",
        "    str = str.replace(' (рис.', ' ')\n",
        "    str = str.replace('(см. главу )', ' ')\n",
        "    str = str.replace('в. до н. э.', ' ')\n",
        "\n",
        "    str = str.replace('–', ' ')\n",
        "\n",
        "    str = no_roman(str)\n",
        "\n",
        "    str = str.replace(' ( ', ' ')\n",
        "    str = str.replace(' ) ', ' ')\n",
        "    str = str.replace(' (.', ' ')\n",
        "    str = str.replace(' ).', ' ')\n",
        "\n",
        "    str = str.replace('  ', ' ')\n",
        "    str = str.replace('  ', ' ')\n",
        "    str = str.replace('  ', ' ')\n",
        "    str = str.replace('  ', ' ')\n",
        "    str = str.replace('  ', ' ')\n",
        "    return str\n",
        "\n",
        "\n",
        "str = write_tp(str)\n",
        "\n",
        "with open('input_dictinary.txt', 'w', encoding='utf-8') as f:\n",
        "    f.write(str)"
      ],
      "execution_count": 0,
      "outputs": []
    },
    {
      "cell_type": "code",
      "metadata": {
        "id": "jwmnY5-r0hgo",
        "colab_type": "code",
        "outputId": "dd3e407e-7979-4070-993d-53b1fcbdca4d",
        "colab": {
          "base_uri": "https://localhost:8080/",
          "height": 255
        }
      },
      "source": [
        "import gensim\n",
        "import gzip\n",
        "import logging\n",
        "import requests\n",
        "\n",
        "data_file=\"input_dictinary.txt\"\n",
        "\n",
        "def read_input(input_file):\n",
        "    logging.info('reading file {0} ... thhhh'.format(input_file))\n",
        "\n",
        "    with open(input_file, 'rb') as f:\n",
        "        for i, line in enumerate(f):\n",
        "\n",
        "            if i%10000 == 0:\n",
        "                logging.info('read {0} reviews'.format (i))\n",
        "\n",
        "            yield  gensim.utils.simple_preprocess(line)\n",
        "document = list (read_input(data_file))\n",
        "\n",
        "logging.info('Done reading data file')\n",
        "\n",
        "model = gensim.models.Word2Vec(document, size = 200, window=10, min_count=3, workers=2)\n",
        "#нужен для дополнительного обучениея нейросети\n",
        "model.train(document, total_examples=len(document), epochs=100)\n",
        "\n",
        "print('====================================================================================<Find more populating apps>================================================================================================')\n",
        "\n",
        "i = 0\n",
        "a = ['баобаб','это','растение']\n",
        "\n",
        "print(model.predict_output_word(a, topn=10))\n",
        "\n",
        "\n",
        "while i<1:\n",
        "    w1 = input('write words:')\n",
        "    try:\n",
        "        i+=1\n",
        "        model.predict_output_word(w1)\n",
        "        #print(model.wv.most_similar(positive=w1,topn=1000))\n",
        "    except:\n",
        "        print('This word`s not found in my dataset, and i don`t have information for words)')\n",
        "\n",
        "print('========================<End>===========================')\n",
        "\n",
        "print('=====================<Find Sinonimum>===================')\n",
        "\n",
        "u = list(model.wv.most_similar(positive=w1))\n",
        "\n",
        "'''\n",
        "methods Gensim\n",
        "    Получение информации о работе и убирание лишнего\n",
        "    w1, w2\n",
        "    model.wv.most_similar(positive=w1,negative=w2,topn=10)\n",
        "    \n",
        "    атрибут topn отвечает за количество выведенных записей\n",
        "    \n",
        "    Интересные методы\n",
        "    \n",
        "    можно находить лишнее слово (напишу 21-22)\n",
        "    model.wv.doesnt_match(['',''])\n",
        "    \n",
        "    а можно синонимы по списку слов\n",
        "    model.predict_output_word([]) \n",
        "    \n",
        "    также можно получить вектор слова от gensim\n",
        "    vector = model.wv[words]\n",
        "    \n",
        "'''\n",
        "\n",
        "def googleSearch(query):\n",
        "    with requests.session() as c:\n",
        "        url = 'https://www.google.co.in/search?q=%D0%BA%D0%B0%D1%80%D1%82%D0%B8%D0%BD%D0%BA%D0%B8&hl=ru&source=lnms&tbm=isch&sa=X&ved=0ahUKEwjPupLP-pDkAhVnyaYKHZ7YDZcQ_AUIESgB&biw=960&bih=942'\n",
        "        query = {'q': query}\n",
        "        urllink = requests.get(url, params=query)\n",
        "        print(urllink.url)\n",
        "\n",
        "googleSearch(u[0][0])\n",
        "\n",
        "a = input('You prefer:')\n",
        "googleSearch(a)"
      ],
      "execution_count": 19,
      "outputs": [
        {
          "output_type": "stream",
          "text": [
            "WARNING:gensim.models.base_any2vec:Effective 'alpha' higher than previous training cycles\n"
          ],
          "name": "stderr"
        },
        {
          "output_type": "stream",
          "text": [
            "====================================================================================<Find more populating apps>================================================================================================\n",
            "[('всё', 0.9999945), ('сем', 5.4326015e-06), ('лекарственное', 2.7774785e-08), ('комнатное', 6.4769727e-09), ('декоративное', 1.9854278e-09), ('многолетнее', 1.4305137e-09), ('травянистое', 1.16198995e-10), ('основном', 4.9687386e-11), ('видоизменённые', 2.8902214e-11), ('стеблями', 1.90044e-11)]\n",
            "write words:стеблями\n"
          ],
          "name": "stdout"
        },
        {
          "output_type": "stream",
          "text": [
            "/usr/local/lib/python3.6/dist-packages/gensim/models/word2vec.py:1140: UserWarning: All the input context words are out-of-vocabulary for the current model.\n",
            "  warnings.warn(\"All the input context words are out-of-vocabulary for the current model.\")\n",
            "/usr/local/lib/python3.6/dist-packages/gensim/matutils.py:737: FutureWarning: Conversion of the second argument of issubdtype from `int` to `np.signedinteger` is deprecated. In future, it will be treated as `np.int64 == np.dtype(int).type`.\n",
            "  if np.issubdtype(vec.dtype, np.int):\n"
          ],
          "name": "stderr"
        },
        {
          "output_type": "stream",
          "text": [
            "========================<End>===========================\n",
            "=====================<Find Sinonimum>===================\n",
            "https://www.google.co.in/search?q=%D0%BA%D0%B0%D1%80%D1%82%D0%B8%D0%BD%D0%BA%D0%B8&hl=ru&source=lnms&tbm=isch&sa=X&ved=0ahUKEwjPupLP-pDkAhVnyaYKHZ7YDZcQ_AUIESgB&biw=960&bih=942&q=%D0%BD%D0%B5%D1%81%D1%83%D1%89%D0%B8%D0%BC%D0%B8\n",
            "You prefer:цфк\n",
            "https://www.google.co.in/search?q=%D0%BA%D0%B0%D1%80%D1%82%D0%B8%D0%BD%D0%BA%D0%B8&hl=ru&source=lnms&tbm=isch&sa=X&ved=0ahUKEwjPupLP-pDkAhVnyaYKHZ7YDZcQ_AUIESgB&biw=960&bih=942&q=%D1%86%D1%84%D0%BA\n"
          ],
          "name": "stdout"
        }
      ]
    },
    {
      "cell_type": "code",
      "metadata": {
        "id": "lotIkvIGR3lH",
        "colab_type": "code",
        "colab": {
          "base_uri": "https://localhost:8080/",
          "height": 121
        },
        "outputId": "92ff7b54-316a-40fd-8dc2-919aa0367894"
      },
      "source": [
        "w1 = input()\n",
        "\n",
        "model.wv.most_similar(positive = w1)\n",
        "\n",
        "def googleSearch(query):\n",
        "    with requests.session() as c:\n",
        "        url = 'https://www.google.co.in/search?q=%D0%BA%D0%B0%D1%80%D1%82%D0%B8%D0%BD%D0%BA%D0%B8&hl=ru&source=lnms&tbm=isch&sa=X&ved=0ahUKEwjPupLP-pDkAhVnyaYKHZ7YDZcQ_AUIESgB&biw=960&bih=942'\n",
        "        query = {'q': query}\n",
        "        urllink = requests.get(url, params=query)\n",
        "        print(urllink.url)\n",
        "\n",
        "u = list(model.wv.most_similar(positive=w1))\n",
        "\n",
        "googleSearch(u[0][0])\n",
        "googleSearch(u[1][0])"
      ],
      "execution_count": 28,
      "outputs": [
        {
          "output_type": "stream",
          "text": [
            "собака\n"
          ],
          "name": "stdout"
        },
        {
          "output_type": "stream",
          "text": [
            "/usr/local/lib/python3.6/dist-packages/gensim/matutils.py:737: FutureWarning: Conversion of the second argument of issubdtype from `int` to `np.signedinteger` is deprecated. In future, it will be treated as `np.int64 == np.dtype(int).type`.\n",
            "  if np.issubdtype(vec.dtype, np.int):\n"
          ],
          "name": "stderr"
        },
        {
          "output_type": "stream",
          "text": [
            "https://www.google.co.in/search?q=%D0%BA%D0%B0%D1%80%D1%82%D0%B8%D0%BD%D0%BA%D0%B8&hl=ru&source=lnms&tbm=isch&sa=X&ved=0ahUKEwjPupLP-pDkAhVnyaYKHZ7YDZcQ_AUIESgB&biw=960&bih=942&q=%D0%B5%D0%BD%D0%BE%D1%82%D0%BE%D0%B2%D0%B8%D0%B4%D0%BD%D0%B0%D1%8F\n",
            "https://www.google.co.in/search?q=%D0%BA%D0%B0%D1%80%D1%82%D0%B8%D0%BD%D0%BA%D0%B8&hl=ru&source=lnms&tbm=isch&sa=X&ved=0ahUKEwjPupLP-pDkAhVnyaYKHZ7YDZcQ_AUIESgB&biw=960&bih=942&q=%D1%80%D0%BE%D0%B4%D1%81%D1%82%D0%B2%D0%B5%D0%BD%D0%BD%D0%B8%D1%86%D0%B0\n"
          ],
          "name": "stdout"
        }
      ]
    }
  ]
}